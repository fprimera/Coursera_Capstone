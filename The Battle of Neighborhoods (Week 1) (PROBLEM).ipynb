{
    "cells": [
        {
            "cell_type": "markdown",
            "metadata": {
                "collapsed": true
            },
            "source": "# IBM DATA SCIENCE \u2013 CAPSTONE \n\n### Battle Of The Neighborhoods\n\n### Choosing The Best Vacation Destination Between Dubai, Paris, New York and Kuala Lumpur\n\n# Introduction and Problem Description\n\n### In this Capstone Project, I will use my learnings and understandings from IBM\u2019sProfessional Data Science Certificate to solve this never-ending problem of which place is it better to go for a vacation between these four famous cities. Many foreign tourists are trying to find a vacation spot which gives the whole package and is worth them taking their time out of their lives to come and enjoy. Tourists want to choose a place that has a variety of activities to do and a variety of places to go. In this project I will try to explore the two cities to see which city offers the best vacation destination in terms of hotels, restaurants, malls, museums, sight-seeing venues and fun outdoor activities.\n\n### This data will be able to solve this problem as we can see what the reviews, ratings and tips for places in the city are. How many 5 \u2013 Star hotels does the city have. How many different categories of places are available and how far are their distances from the places where the tourists plan to live. Furthermore, we can see what Tourists look for in ideal vacation venues and cross check them with cities to see whether those cities provide those places or not.\n\n# Data Section\n\n## 1. Requirements\n\n### The data required in this is all types of categories for vocational purposes such as Hotels, Restaurants, Shopping Malls, Museums, Sight-Seeing Venues and Fun-Outdoor Activities. For that purpose, I will use the Foursquare API to \u2018Search\u2019 and \u2018Explore\u2019 all these Vacation venues to observe and do exploratory data analysis on the following cities.\n\n## 2. Source\n\n### The data for this project will be collected using Foursquare API using thefollowing link: https://foursquare.com/developers. In order to extract our data, I will use my Client ID and Client Secret to create a query which will fetch the data I need from the website.\n\n## 3. Audience\n\n### The audience for this report will be the foreign tourists and travelers looking for their perfect vacation destination. It will not only benefit these travelers but will also give insight to the tourist industry as to what things make a place a better spot and more likely place for people to go for their holidays. Tourism industry is important for the benefits it brings and due to its role as a commercial activity that creates demand and growth for many more industries."
        },
        {
            "cell_type": "code",
            "execution_count": null,
            "metadata": {},
            "outputs": [],
            "source": ""
        }
    ],
    "metadata": {
        "kernelspec": {
            "display_name": "Python 3.6",
            "language": "python",
            "name": "python3"
        },
        "language_info": {
            "codemirror_mode": {
                "name": "ipython",
                "version": 3
            },
            "file_extension": ".py",
            "mimetype": "text/x-python",
            "name": "python",
            "nbconvert_exporter": "python",
            "pygments_lexer": "ipython3",
            "version": "3.6.9"
        }
    },
    "nbformat": 4,
    "nbformat_minor": 1
}